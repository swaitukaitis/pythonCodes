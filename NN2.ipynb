{
 "metadata": {
  "name": "",
  "signature": "sha256:5f0d55c74a04bbb3a67e25c22a5f481a052f8ea5d6600421da8861da54a32f1a"
 },
 "nbformat": 3,
 "nbformat_minor": 0,
 "worksheets": [
  {
   "cells": [
    {
     "cell_type": "markdown",
     "metadata": {},
     "source": [
      "NN.py runs a simple neural network.  The class assumes a three layer structure where the size of each layer is specified as input by the user each time an instance is created."
     ]
    },
    {
     "cell_type": "code",
     "collapsed": false,
     "input": [
      "import numpy as np\n",
      "from scipy import optimize\n",
      "import scipy.io\n",
      "import sklearn.datasets as datasets\n",
      "%pylab inline"
     ],
     "language": "python",
     "metadata": {},
     "outputs": [
      {
       "output_type": "stream",
       "stream": "stdout",
       "text": [
        "Populating the interactive namespace from numpy and matplotlib\n"
       ]
      }
     ],
     "prompt_number": 1
    },
    {
     "cell_type": "code",
     "collapsed": false,
     "input": [
      "class NN(object):\n",
      "    \n",
      "    def __init__(self, inputLayerSize, hiddenLayerSize, numLabels):\n",
      "        self.ils=inputLayerSize\n",
      "        self.hls=hiddenLayerSize\n",
      "        self.nl=numLabels\n",
      "  \n",
      "    def sig(self, z):\n",
      "        return(1./(1.+np.exp(-z)))\n",
      "    \n",
      "    def sigGrad(self, z):\n",
      "        return(self.sig(z)*(1.-self.sig(z)))\n",
      "    \n",
      "    def unrollTheta(self, arr1, arr2):\n",
      "        return(np.concatenate([arr1.reshape(np.size(arr1), order='F'), arr2.reshape(np.size(arr2), order='F')]))\n",
      "        \n",
      "    def rollTheta(self, arr):\n",
      "        arr1=np.reshape(arr[0:(self.ils+1)*self.hls], [self.hls, self.ils+1], order='F')\n",
      "        arr2=np.reshape(arr[(self.ils+1)*self.hls:], [self.nl,self.hls+1] , order='F')\n",
      "        return(arr1, arr2)\n",
      "    \n",
      "    def seedParams(self):\n",
      "        epsilon=0.1\n",
      "        return np.random.uniform(-epsilon, epsilon, (self.ils+1)*(self.hls)+(self.hls+1)*(self.nl))\n",
      "    \n",
      "    def splitSet(self, X, y, f=[0.6, 0.2, 0.2]):\n",
      "        n=y.size\n",
      "        ind=np.arange(n)\n",
      "        np.random.shuffle(ind)\n",
      "        X, y=X[ind,:], y[ind]\n",
      "        Xt, yt=X[0:round(n*f[0]),:], y[0:round(n*f[0])]\n",
      "        Xv, yv=X[round(n*f[0]):round(n*(f[0]+f[1])),:], y[round(n*f[0]):round(n*(f[0]+f[1]))]\n",
      "        Xe, ye=X[round(n*(f[0]+f[1])):round(n*(f[0]+f[1]+f[2])),:], y[round(n*(f[0]+f[1])):round(n*(f[0]+f[1]+f[2]))]\n",
      "        return(Xt, yt, Xv, yv, Xe, ye)\n",
      "    \n",
      "    def costFunction(self, nn_params, *args):\n",
      "        X, y, lam=args\n",
      "        m=np.float(X.shape[0])\n",
      "        theta1, theta2 = self.rollTheta(nn_params)\n",
      "        theta1_grad=np.zeros(theta1.shape)\n",
      "        theta2_grad=np.zeros(theta2.shape)\n",
      "        J=0.0\n",
      "        #This loop does the prop and back prop for each training example i\n",
      "        for i in np.arange(m):\n",
      "            if self.nl>1:\n",
      "                yvec=np.zeros(self.nl)\n",
      "                yvec[y[i]]=1.0\n",
      "            else:\n",
      "                yvec=np.float(y[i])\n",
      "            a1=np.hstack([1.0, X[i,:]])\n",
      "            z2=np.dot(theta1, a1)\n",
      "            a2=np.hstack([1.0, self.sig(z2)])\n",
      "            z3=np.dot(theta2, a2)\n",
      "            a3=self.sig(z3)\n",
      "            J+=1./m*(np.dot(-yvec, np.log(a3))-np.dot((1.-yvec), np.log(1.-a3)))\n",
      "            d3=a3-yvec\n",
      "            theta2_grad=theta2_grad+1./m*np.outer(d3, a2.T)\n",
      "            d2=np.dot(theta2[:,1:].T, d3)*net.sigGrad(z2)\n",
      "            theta1_grad=theta1_grad+1./m*np.outer(d2, a1.T)\n",
      "\n",
      "        #Now add the regularization terms\n",
      "        add1=copy(theta1)\n",
      "        add1[:,0]=0.0\n",
      "        theta1_grad=theta1_grad+lam/m*add1\n",
      "\n",
      "        add2=copy(theta2)\n",
      "        add2[:,0]=0.0\n",
      "        theta2_grad=theta2_grad+lam/m*add2\n",
      "\n",
      "        J=J+lam/(2.*m)*( (theta1[:,1:]*theta1[:,1:]).sum()+(theta2[:,1:]*theta2[:,1:]).sum() ) \n",
      "        grad=self.unrollTheta(theta1_grad, theta2_grad)\n",
      "        \n",
      "        self._funcVal=J\n",
      "        \n",
      "        return( [J, grad] )\n",
      "    \n",
      "    def callbackFn(self, Xi):\n",
      "        print '#: '+str(self.Nfeval)+'  J: '+str(self._funcVal), '\\r',\n",
      "        self.Nfeval += 1\n",
      "    \n",
      "    def train(self, X, y, lam, maxiter=100, gtol=1e-6, disp=False):\n",
      "        initialGuess = self.seedParams()\n",
      "        self.Nfeval=1\n",
      "        self.valCost=np.array([])\n",
      "        options = {'maxiter': maxiter, 'disp': disp, 'gtol': gtol}\n",
      "        _res = optimize.minimize(self.costFunction, initialGuess, jac=True, method='CG', \n",
      "                                 args=(X, y, lam), options=options, callback=self.callbackFn)\n",
      "        \n",
      "        self.res=_res\n",
      "        self.theta1, self.theta2 = self.rollTheta(_res.x)\n",
      "    \n",
      "    def predict(self, X):\n",
      "        a1=np.hstack([ones([X.shape[0],1]), X])\n",
      "        z2=np.dot(self.theta1, a1.T)\n",
      "        a2=np.vstack([ones([1, z2.shape[1]]), self.sig(z2)])\n",
      "        z3=np.dot(self.theta2, a2)\n",
      "        a3=self.sig(z3)\n",
      "        return np.argmax(a3, axis=0)\n",
      "    \n",
      "    def accuracy(self, X , y):\n",
      "        acc=sum(y==net.predict(X), dtype='float')/X.shape[0]\n",
      "        print 'Well all right!  The accuracy of the test set predictions is:  '+str(acc)\n",
      "        return(acc)\n",
      "        "
     ],
     "language": "python",
     "metadata": {},
     "outputs": [],
     "prompt_number": 2
    },
    {
     "cell_type": "markdown",
     "metadata": {},
     "source": [
      "Now let's give an example of how to run this with the iris dataset."
     ]
    },
    {
     "cell_type": "code",
     "collapsed": false,
     "input": [
      "net=NN(4, 4, 3)             #NN w 4 features, 4 hidden layer units, and 3 types\n",
      "Iris=datasets.load_iris()\n",
      "X=Iris.data\n",
      "y=np.asarray(Iris.target, dtype='float')\n",
      "Xtr, ytr, Xval, yval, Xtst, ytst=net.splitSet(X,y,[0.8,0.0,0.2])\n",
      "net.train(Xtr, ytr, lam=0.15, maxiter=170.)\n",
      "acc=net.accuracy(Xtst, ytst)"
     ],
     "language": "python",
     "metadata": {},
     "outputs": [
      {
       "output_type": "stream",
       "stream": "stdout",
       "text": [
        "#: 1  J: 1.90535468686 \r",
        "#: 2  J: 1.84491795446"
       ]
      },
      {
       "output_type": "stream",
       "stream": "stdout",
       "text": [
        " \r",
        "#: 3  J: 1.586316516 \r",
        "#: 4  J: 1.48480453965"
       ]
      },
      {
       "output_type": "stream",
       "stream": "stdout",
       "text": [
        " \r",
        "#: 5  J: 1.20149829543 \r",
        "#: 6  J: 1.07709942482"
       ]
      },
      {
       "output_type": "stream",
       "stream": "stdout",
       "text": [
        " \r",
        "#: 7  J: 1.06233213244 \r",
        "#: 8  J: 1.0414636227 \r",
        "#: 9  J: 1.0182242207 \r",
        "#: 10  J: 0.991496190579"
       ]
      },
      {
       "output_type": "stream",
       "stream": "stdout",
       "text": [
        " \r",
        "#: 11  J: 0.988116709874 \r",
        "#: 12  J: 0.98444526626 \r",
        "#: 13  J: 0.959139746904"
       ]
      },
      {
       "output_type": "stream",
       "stream": "stdout",
       "text": [
        " \r",
        "#: 14  J: 0.955464442605 \r",
        "#: 15  J: 0.938341679831"
       ]
      },
      {
       "output_type": "stream",
       "stream": "stdout",
       "text": [
        " \r",
        "#: 16  J: 0.905056681846 \r",
        "#: 17  J: 0.872940612931"
       ]
      },
      {
       "output_type": "stream",
       "stream": "stdout",
       "text": [
        " \r",
        "#: 18  J: 0.847037492183 \r",
        "#: 19  J: 0.803052726589 \r",
        "#: 20  J: 0.646858787908"
       ]
      },
      {
       "output_type": "stream",
       "stream": "stdout",
       "text": [
        " \r",
        "#: 21  J: 0.527297185733 \r",
        "#: 22  J: 0.492517626889 \r",
        "#: 23  J: 0.486026379862"
       ]
      },
      {
       "output_type": "stream",
       "stream": "stdout",
       "text": [
        " \r",
        "#: 24  J: 0.483574099891 \r",
        "#: 25  J: 0.452628457735"
       ]
      },
      {
       "output_type": "stream",
       "stream": "stdout",
       "text": [
        " \r",
        "#: 26  J: 0.450210606216 \r",
        "#: 27  J: 0.449290245109"
       ]
      },
      {
       "output_type": "stream",
       "stream": "stdout",
       "text": [
        " \r",
        "#: 28  J: 0.439213982906 \r",
        "#: 29  J: 0.438878302242"
       ]
      },
      {
       "output_type": "stream",
       "stream": "stdout",
       "text": [
        " \r",
        "#: 30  J: 0.438475958091 \r",
        "#: 31  J: 0.432320864883"
       ]
      },
      {
       "output_type": "stream",
       "stream": "stdout",
       "text": [
        " \r",
        "#: 32  J: 0.428913205504 \r",
        "#: 33  J: 0.428512064955 \r",
        "#: 34  J: 0.420501790943"
       ]
      },
      {
       "output_type": "stream",
       "stream": "stdout",
       "text": [
        " \r",
        "#: 35  J: 0.420348580668 \r",
        "#: 36  J: 0.406819125651"
       ]
      },
      {
       "output_type": "stream",
       "stream": "stdout",
       "text": [
        " \r",
        "#: 37  J: 0.391197497894 \r",
        "#: 38  J: 0.377140101755 \r",
        "#: 39  J: 0.376520176745"
       ]
      },
      {
       "output_type": "stream",
       "stream": "stdout",
       "text": [
        " \r",
        "#: 40  J: 0.375795564976 \r",
        "#: 41  J: 0.375259427155 \r",
        "#: 42  J: 0.375100980841 \r",
        "#: 43  J: 0.374643723964"
       ]
      },
      {
       "output_type": "stream",
       "stream": "stdout",
       "text": [
        " \r",
        "#: 44  J: 0.364392314096 \r",
        "#: 45  J: 0.364048564558"
       ]
      },
      {
       "output_type": "stream",
       "stream": "stdout",
       "text": [
        " \r",
        "#: 46  J: 0.360233045626 \r",
        "#: 47  J: 0.359715145778"
       ]
      },
      {
       "output_type": "stream",
       "stream": "stdout",
       "text": [
        " \r",
        "#: 48  J: 0.356419930421 \r",
        "#: 49  J: 0.35623907876 \r",
        "#: 50  J: 0.352731937994"
       ]
      },
      {
       "output_type": "stream",
       "stream": "stdout",
       "text": [
        " \r",
        "#: 51  J: 0.349612860836 \r",
        "#: 52  J: 0.349583109388 \r",
        "#: 53  J: 0.349488109192"
       ]
      },
      {
       "output_type": "stream",
       "stream": "stdout",
       "text": [
        " \r",
        "#: 54  J: 0.346884445166 \r",
        "#: 55  J: 0.34685475197"
       ]
      },
      {
       "output_type": "stream",
       "stream": "stdout",
       "text": [
        " \r",
        "#: 56  J: 0.344427572012 \r",
        "#: 57  J: 0.341714969976"
       ]
      },
      {
       "output_type": "stream",
       "stream": "stdout",
       "text": [
        " \r",
        "#: 58  J: 0.341335615529 \r",
        "#: 59  J: 0.339911489459"
       ]
      },
      {
       "output_type": "stream",
       "stream": "stdout",
       "text": [
        " \r",
        "#: 60  J: 0.339809923494 \r",
        "#: 61  J: 0.339596986773 \r",
        "#: 62  J: 0.338908412058"
       ]
      },
      {
       "output_type": "stream",
       "stream": "stdout",
       "text": [
        " \r",
        "#: 63  J: 0.338691025474 \r",
        "#: 64  J: 0.338484283895"
       ]
      },
      {
       "output_type": "stream",
       "stream": "stdout",
       "text": [
        " \r",
        "#: 65  J: 0.338413463502 \r",
        "#: 66  J: 0.338374833122"
       ]
      },
      {
       "output_type": "stream",
       "stream": "stdout",
       "text": [
        " \r",
        "#: 67  J: 0.338332222652 \r",
        "#: 68  J: 0.337261018547"
       ]
      },
      {
       "output_type": "stream",
       "stream": "stdout",
       "text": [
        " \r",
        "#: 69  J: 0.336978761579 \r",
        "#: 70  J: 0.336901150522"
       ]
      },
      {
       "output_type": "stream",
       "stream": "stdout",
       "text": [
        " \r",
        "#: 71  J: 0.336880137146 \r",
        "#: 72  J: 0.336311755317"
       ]
      },
      {
       "output_type": "stream",
       "stream": "stdout",
       "text": [
        " \r",
        "#: 73  J: 0.336181872416 \r",
        "#: 74  J: 0.334865776276"
       ]
      },
      {
       "output_type": "stream",
       "stream": "stdout",
       "text": [
        " \r",
        "#: 75  J: 0.334593356514 \r",
        "#: 76  J: 0.332066327197"
       ]
      },
      {
       "output_type": "stream",
       "stream": "stdout",
       "text": [
        " \r",
        "#: 77  J: 0.332020354297 \r",
        "#: 78  J: 0.331107410007"
       ]
      },
      {
       "output_type": "stream",
       "stream": "stdout",
       "text": [
        " \r",
        "#: 79  J: 0.331080227913 \r",
        "#: 80  J: 0.330315138607"
       ]
      },
      {
       "output_type": "stream",
       "stream": "stdout",
       "text": [
        " \r",
        "#: 81  J: 0.330257692571 \r",
        "#: 82  J: 0.327742991483"
       ]
      },
      {
       "output_type": "stream",
       "stream": "stdout",
       "text": [
        " \r",
        "#: 83  J: 0.323612559351 \r",
        "#: 84  J: 0.319888390518 \r",
        "#: 85  J: 0.318381407585"
       ]
      },
      {
       "output_type": "stream",
       "stream": "stdout",
       "text": [
        " \r",
        "#: 86  J: 0.317674091949 \r",
        "#: 87  J: 0.31682236895 \r",
        "#: 88  J: 0.314343601978"
       ]
      },
      {
       "output_type": "stream",
       "stream": "stdout",
       "text": [
        " \r",
        "#: 89  J: 0.314023313104 \r",
        "#: 90  J: 0.31236104204"
       ]
      },
      {
       "output_type": "stream",
       "stream": "stdout",
       "text": [
        " \r",
        "#: 91  J: 0.312307094319 \r",
        "#: 92  J: 0.310783650979"
       ]
      },
      {
       "output_type": "stream",
       "stream": "stdout",
       "text": [
        " \r",
        "#: 93  J: 0.310633090655 \r",
        "#: 94  J: 0.310535159211 \r",
        "#: 95  J: 0.310345125666"
       ]
      },
      {
       "output_type": "stream",
       "stream": "stdout",
       "text": [
        " \r",
        "#: 96  J: 0.30989705574 \r",
        "#: 97  J: 0.309888250683"
       ]
      },
      {
       "output_type": "stream",
       "stream": "stdout",
       "text": [
        " \r",
        "#: 98  J: 0.309653949582 \r",
        "#: 99  J: 0.309646671039"
       ]
      },
      {
       "output_type": "stream",
       "stream": "stdout",
       "text": [
        " \r",
        "#: 100  J: 0.309583413021 \r",
        "#: 101  J: 0.309203982737"
       ]
      },
      {
       "output_type": "stream",
       "stream": "stdout",
       "text": [
        " \r",
        "#: 102  J: 0.309171685145 \r",
        "#: 103  J: 0.308907868499"
       ]
      },
      {
       "output_type": "stream",
       "stream": "stdout",
       "text": [
        " \r",
        "#: 104  J: 0.308866818246 \r",
        "#: 105  J: 0.308814194321 \r",
        "#: 106  J: 0.308809343527"
       ]
      },
      {
       "output_type": "stream",
       "stream": "stdout",
       "text": [
        " \r",
        "#: 107  J: 0.308691542173 \r",
        "#: 108  J: 0.308688417882"
       ]
      },
      {
       "output_type": "stream",
       "stream": "stdout",
       "text": [
        " \r",
        "#: 109  J: 0.308538303966"
       ]
      },
      {
       "output_type": "stream",
       "stream": "stdout",
       "text": [
        " \r",
        "#: 110  J: 0.308527568773 \r",
        "#: 111  J: 0.308418835403 \r",
        "#: 112  J: 0.308081270036"
       ]
      },
      {
       "output_type": "stream",
       "stream": "stdout",
       "text": [
        " \r",
        "#: 113  J: 0.308029241664 \r",
        "#: 114  J: 0.307943505832 \r",
        "#: 115  J: 0.307831733705 \r",
        "#: 116  J: 0.307814501715"
       ]
      },
      {
       "output_type": "stream",
       "stream": "stdout",
       "text": [
        " \r",
        "#: 117  J: 0.30746335935 \r",
        "#: 118  J: 0.307440296333"
       ]
      },
      {
       "output_type": "stream",
       "stream": "stdout",
       "text": [
        " \r",
        "#: 119  J: 0.307394066189 \r",
        "#: 120  J: 0.30737112614 \r",
        "#: 121  J: 0.307365578811"
       ]
      },
      {
       "output_type": "stream",
       "stream": "stdout",
       "text": [
        " \r",
        "#: 122  J: 0.307293211045 \r",
        "#: 123  J: 0.307240947374"
       ]
      },
      {
       "output_type": "stream",
       "stream": "stdout",
       "text": [
        " \r",
        "#: 124  J: 0.307238060972 \r",
        "#: 125  J: 0.307060782883"
       ]
      },
      {
       "output_type": "stream",
       "stream": "stdout",
       "text": [
        " \r",
        "#: 126  J: 0.307038950633 \r",
        "#: 127  J: 0.307008251959 \r",
        "#: 128  J: 0.307001122518"
       ]
      },
      {
       "output_type": "stream",
       "stream": "stdout",
       "text": [
        " \r",
        "#: 129  J: 0.306975275024 \r",
        "#: 130  J: 0.306896416548"
       ]
      },
      {
       "output_type": "stream",
       "stream": "stdout",
       "text": [
        " \r",
        "#: 131  J: 0.305804490015 \r",
        "#: 132  J: 0.305505536927"
       ]
      },
      {
       "output_type": "stream",
       "stream": "stdout",
       "text": [
        " \r",
        "#: 133  J: 0.305230170429 \r",
        "#: 134  J: 0.304775600355 \r",
        "#: 135  J: 0.304679165645"
       ]
      },
      {
       "output_type": "stream",
       "stream": "stdout",
       "text": [
        " \r",
        "#: 136  J: 0.304158055528 \r",
        "#: 137  J: 0.304122781681 \r",
        "#: 138  J: 0.303542475982"
       ]
      },
      {
       "output_type": "stream",
       "stream": "stdout",
       "text": [
        " \r",
        "#: 139  J: 0.303148892832 \r",
        "#: 140  J: 0.302640249434"
       ]
      },
      {
       "output_type": "stream",
       "stream": "stdout",
       "text": [
        " \r",
        "#: 141  J: 0.302602718467 \r",
        "#: 142  J: 0.302555014427 \r",
        "#: 143  J: 0.302415087856"
       ]
      },
      {
       "output_type": "stream",
       "stream": "stdout",
       "text": [
        " \r",
        "#: 144  J: 0.302356818315 \r",
        "#: 145  J: 0.30233278534 \r",
        "#: 146  J: 0.3018384395"
       ]
      },
      {
       "output_type": "stream",
       "stream": "stdout",
       "text": [
        " \r",
        "#: 147  J: 0.301804203175 \r",
        "#: 148  J: 0.301593472116 \r",
        "#: 149  J: 0.301583528679"
       ]
      },
      {
       "output_type": "stream",
       "stream": "stdout",
       "text": [
        " \r",
        "#: 150  J: 0.301342148589 \r",
        "#: 151  J: 0.301239503372"
       ]
      },
      {
       "output_type": "stream",
       "stream": "stdout",
       "text": [
        " \r",
        "#: 152  J: 0.30106032102 \r",
        "#: 153  J: 0.301043614994 \r",
        "#: 154  J: 0.300819480003"
       ]
      },
      {
       "output_type": "stream",
       "stream": "stdout",
       "text": [
        " \r",
        "#: 155  J: 0.300810062233 \r",
        "#: 156  J: 0.300620902442"
       ]
      },
      {
       "output_type": "stream",
       "stream": "stdout",
       "text": [
        " \r",
        "#: 157  J: 0.300595422433 \r",
        "#: 158  J: 0.300277496783"
       ]
      },
      {
       "output_type": "stream",
       "stream": "stdout",
       "text": [
        " \r",
        "#: 159  J: 0.300220427197 \r",
        "#: 160  J: 0.299829382759 \r",
        "#: 161  J: 0.299584680774"
       ]
      },
      {
       "output_type": "stream",
       "stream": "stdout",
       "text": [
        " \r",
        "#: 162  J: 0.298524130172 \r",
        "#: 163  J: 0.298389705063 \r",
        "#: 164  J: 0.298369614876"
       ]
      },
      {
       "output_type": "stream",
       "stream": "stdout",
       "text": [
        " \r",
        "#: 165  J: 0.298352928152 \r",
        "#: 166  J: 0.298339735065 \r",
        "#: 167  J: 0.29833220478 \r",
        "#: 168  J: 0.298045279613"
       ]
      },
      {
       "output_type": "stream",
       "stream": "stdout",
       "text": [
        " \r",
        "#: 169  J: 0.298034236549 \r",
        "#: 170  J: 0.296894683256"
       ]
      },
      {
       "output_type": "stream",
       "stream": "stdout",
       "text": [
        " \r",
        "Well all right!  The accuracy of the test set predictions is:  1.0\n"
       ]
      }
     ],
     "prompt_number": 3
    }
   ],
   "metadata": {}
  }
 ]
}