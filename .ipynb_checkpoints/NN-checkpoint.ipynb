{
 "metadata": {
  "name": "",
  "signature": "sha256:9a595e6ef91a6fb8e54b812579b43477dffb329d8981de433a2d207ffd2e528e"
 },
 "nbformat": 3,
 "nbformat_minor": 0,
 "worksheets": []
}